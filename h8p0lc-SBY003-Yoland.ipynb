{
 "cells": [
  {
   "cell_type": "markdown",
   "metadata": {},
   "source": [
    "# LC Simulation Inventory Management"
   ]
  },
  {
   "cell_type": "markdown",
   "metadata": {},
   "source": [
    "Kamu adalah seorang Python developer di perusahaan supermarket. Buatlah program sederhana untuk stock management. Program tersebut\n",
    "dapat melakukan:\n",
    "\n",
    "1. Pengisian inventory dimana user dapat menginputkan data berupa nama barang, kategori barang, dan harga barang\n",
    "\n",
    "2. Penampilan inventory stock barang yang tersedia. Menampilkan seluruh data yang diinputkan. Jika data belum dimasukkan, maka akan\n",
    "muncul pesan \"Data belum ada\".\n",
    "\n",
    "• Penyimpanan data yang diinputkan dapat menggunakan nested list seperti:\n",
    "data = | (namal, kategori, hargall, [nama2, kategori2, harga2], Inama_dst, kategori_dst, harga_dst]]\n",
    "\n",
    "- Tiap fitur dibuat dalam bentuk function yang nantinya dapat dipanggil di sistemnya\n",
    "- Sistem dibuat dengan menggunakan while loop dimana program akan berhenti loop jika user input kata exit"
   ]
  },
  {
   "cell_type": "code",
   "execution_count": 29,
   "metadata": {},
   "outputs": [
    {
     "name": "stdout",
     "output_type": "stream",
     "text": [
      "============================\n",
      "Program Inventory Management\n",
      "============================\n",
      "Menu:\n",
      "1. Input Data\n",
      "2. Menampilkan Data\n",
      "Tambahakan barang yang akan dimasukan\n",
      "Nama Barang jeruk  Katergori Barang buah  Harga Barang 12000\n",
      "konfirmasi sudah benar y/n\n"
     ]
    },
    {
     "ename": "AttributeError",
     "evalue": "'tuple' object has no attribute 'append'",
     "output_type": "error",
     "traceback": [
      "\u001b[0;31m---------------------------------------------------------------------------\u001b[0m",
      "\u001b[0;31mAttributeError\u001b[0m                            Traceback (most recent call last)",
      "Cell \u001b[0;32mIn[29], line 36\u001b[0m\n\u001b[1;32m     32\u001b[0m                  \u001b[38;5;28;01mreturn\u001b[39;00m pilihan\n\u001b[1;32m     35\u001b[0m \u001b[38;5;28;01mif\u001b[39;00m \u001b[38;5;18m__name__\u001b[39m \u001b[38;5;241m==\u001b[39m \u001b[38;5;124m\"\u001b[39m\u001b[38;5;124m__main__\u001b[39m\u001b[38;5;124m\"\u001b[39m:\n\u001b[0;32m---> 36\u001b[0m     \u001b[43mmenu\u001b[49m\u001b[43m(\u001b[49m\u001b[43m)\u001b[49m\n",
      "Cell \u001b[0;32mIn[29], line 21\u001b[0m, in \u001b[0;36mmenu\u001b[0;34m()\u001b[0m\n\u001b[1;32m     19\u001b[0m \u001b[38;5;28;01mif\u001b[39;00m konfirmasi\u001b[38;5;241m==\u001b[39m\u001b[38;5;124m\"\u001b[39m\u001b[38;5;124my\u001b[39m\u001b[38;5;124m\"\u001b[39m:\n\u001b[1;32m     20\u001b[0m     listbarang\u001b[38;5;241m=\u001b[39m()\n\u001b[0;32m---> 21\u001b[0m     \u001b[43mlistbarang\u001b[49m\u001b[38;5;241;43m.\u001b[39;49m\u001b[43mappend\u001b[49m(nama)\n\u001b[1;32m     22\u001b[0m     listbarang\u001b[38;5;241m.\u001b[39mappend(kategori)\n\u001b[1;32m     23\u001b[0m     listbarang\u001b[38;5;241m.\u001b[39mappend(harga)\n",
      "\u001b[0;31mAttributeError\u001b[0m: 'tuple' object has no attribute 'append'"
     ]
    }
   ],
   "source": [
    "def menu():\n",
    "    print (\"============================\")\n",
    "    print (\"Program Inventory Management\")\n",
    "    print (\"============================\")\n",
    "    print (\"Menu:\")\n",
    "    print (\"1. Input Data\")\n",
    "    print (\"2. Menampilkan Data\")\n",
    "    pilihan=input()\n",
    "    while pilihan == \"1\":\n",
    "        print(\"Tambahakan barang yang akan dimasukan\")\n",
    "        nama=input(\"Masukan nama barang\")\n",
    "        kategori=input(\"Masukan kategori dari barang\")\n",
    "        harga=input(\"Masukan harga dari barang\")\n",
    "        print(f\"Nama Barang\",nama,\" \"\n",
    "              \"Katergori Barang\",kategori,\" \"\n",
    "              \"Harga Barang\",harga)\n",
    "        print(\"konfirmasi sudah benar y/n\")\n",
    "        konfirmasi=input()\n",
    "        if konfirmasi==\"y\":\n",
    "            listbarang=()\n",
    "            listbarang.append(nama)\n",
    "            listbarang.append(kategori)\n",
    "            listbarang.append(harga)\n",
    "        elif konfirmasi==\"n\":\n",
    "            print(\"Yah barang tidak tersimpan\")\n",
    "            return pilihan\n",
    "    while pilihan ==\"2\":\n",
    "            print(listbarang)\n",
    "            print (\"silahkan kembali ke manu utama dengan klik c\")\n",
    "            c=input()\n",
    "            if c==\"c\":\n",
    "                 return pilihan\n",
    "\n",
    "\n",
    "if __name__ == \"__main__\":\n",
    "    menu()"
   ]
  }
 ],
 "metadata": {
  "kernelspec": {
   "display_name": "Python 3",
   "language": "python",
   "name": "python3"
  },
  "language_info": {
   "codemirror_mode": {
    "name": "ipython",
    "version": 3
   },
   "file_extension": ".py",
   "mimetype": "text/x-python",
   "name": "python",
   "nbconvert_exporter": "python",
   "pygments_lexer": "ipython3",
   "version": "3.9.6"
  }
 },
 "nbformat": 4,
 "nbformat_minor": 2
}
