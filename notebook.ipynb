{
 "cells": [
  {
   "cell_type": "markdown",
   "metadata": {},
   "source": [
    "# Title A"
   ]
  },
  {
   "cell_type": "markdown",
   "metadata": {},
   "source": [
    "## Subtitle A.1"
   ]
  },
  {
   "cell_type": "markdown",
   "metadata": {},
   "source": [
    "# Title B"
   ]
  },
  {
   "cell_type": "markdown",
   "metadata": {},
   "source": [
    "Ordinary \n",
    "\n",
    "*italic*\n",
    "\n",
    "**Bold**\n",
    "\n",
    "`mark`\n",
    "\n",
    "***`combine`***\n"
   ]
  },
  {
   "cell_type": "markdown",
   "metadata": {},
   "source": [
    "Bullet point \n",
    "- lorem ipsum \n",
    "- dolor siamet\n",
    "\n",
    "Number List\n",
    "1. Lorem Ipsum\n",
    "2. dolor siamet\n"
   ]
  },
  {
   "cell_type": "markdown",
   "metadata": {},
   "source": [
    "Table\n",
    "\n",
    "|Name|Sex|\n",
    "|:--:|:--|\n",
    "|Yoland|Female|\n",
    "|Tyas|Female|\n",
    "|Fadilla|Female|\n",
    "|Hasan|Male|\n",
    "|Ardi|Male|\n",
    "|Rhesa|Male|"
   ]
  },
  {
   "cell_type": "code",
   "execution_count": 2,
   "metadata": {},
   "outputs": [
    {
     "name": "stdout",
     "output_type": "stream",
     "text": [
      "Helo World baby!!\n"
     ]
    }
   ],
   "source": [
    "print(\"Helo World baby!!\")"
   ]
  }
 ],
 "metadata": {
  "kernelspec": {
   "display_name": "Python 3",
   "language": "python",
   "name": "python3"
  },
  "language_info": {
   "codemirror_mode": {
    "name": "ipython",
    "version": 3
   },
   "file_extension": ".py",
   "mimetype": "text/x-python",
   "name": "python",
   "nbconvert_exporter": "python",
   "pygments_lexer": "ipython3",
   "version": "3.9.6"
  }
 },
 "nbformat": 4,
 "nbformat_minor": 2
}
