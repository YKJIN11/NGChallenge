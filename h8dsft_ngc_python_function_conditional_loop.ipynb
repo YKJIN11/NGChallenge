{
 "cells": [
  {
   "cell_type": "markdown",
   "metadata": {},
   "source": [
    "# Task 01 - Number of Words\n",
    "\n",
    "Create a function that count the number of word in a sentence.\n",
    "\n",
    "## Instruction:\n",
    "1.Create function called `number_of_word`.\n",
    "\n",
    "2.This function takes 1 input, `sentence`.\n",
    "\n",
    "3.Inside this function, you can utilize `.split()` method to split the sentence into list of word(s).\n",
    "\n",
    "4.Also, `len()` function to count the element inside a list.5.Return the number of word from the sentence.\n"
   ]
  },
  {
   "cell_type": "code",
   "execution_count": 60,
   "metadata": {},
   "outputs": [
    {
     "name": "stdout",
     "output_type": "stream",
     "text": [
      "shahsahsdya dladlasndsl d asdsadbdbaslas\n",
      "Total Kata dalam kalimat kamu adalah: 4\n"
     ]
    }
   ],
   "source": [
    "#Masukan dulu kalimat yang ingin dihitung\n",
    "sentences = input(\"Masukan Kalimat yang akan dihitung katanya\")\n",
    "print(sentences)\n",
    "\n",
    "#Kalimat yang masuk akan dipisahkan kedalam list berdasarkan kata yang masuk \n",
    "list_sentences=sentences.split()\n",
    "\n",
    "#list yang berhasil di hitung menggunakan rumus dibawah ini:\n",
    "number_of_word=len(list_sentences)\n",
    "print(\"Total Kata dalam kalimat kamu adalah:\", number_of_word)\n"
   ]
  },
  {
   "cell_type": "markdown",
   "metadata": {},
   "source": [
    "# Task 02 - Find Multiple\n",
    "\n",
    "Create a function that will get list of number(s) from a certain range that multiples of given number.\n",
    "## Instruction:\n",
    "1.Create function called `find_multiples`.\n",
    "\n",
    "2.This function takes \n",
    "\n",
    "3 input: `start_range`, `end_range`, and `multiple`.\n",
    "\n",
    "3.From every number within the given range, check if that number is the mutliples of `multiple`.\n",
    "\n",
    "4.Return list of the possible multiple number(s)"
   ]
  },
  {
   "cell_type": "code",
   "execution_count": 61,
   "metadata": {},
   "outputs": [
    {
     "name": "stdout",
     "output_type": "stream",
     "text": [
      "[2, 3]\n"
     ]
    }
   ],
   "source": [
    "def list_multiple(start_range,end_range,multiple): #bikin rumus yang berulang\n",
    "      '''\n",
    "      Fungsi ini untuk menemukan list range perkalian dari range dengan multiple\n",
    "      '''\n",
    "      multiples=[]                              #ini penanda list yang masih kosong\n",
    "      for y in range(start_range,end_range+1):  #pengulangan pertama untuk membuat daftar listnya\n",
    "            if y%multiple==0:                   #agar bisa di kalikan rumusnya menggunakan modulu untuk pengecekan satu-persatu.\n",
    "                  multiples.append(y)           #menambah pada daftar range.\n",
    "      return multiples \n",
    "\n",
    "start_range= int(input (\"Masukan Angka awal dari yang ingin dicari:\"))\n",
    "end_range= int(input(\"Masukan angka batas akhir yang kamu kehendaki:\"))\n",
    "multiple= int(input(\"Berapa kelipatan untuk angka yang kamu mau?\"))\n",
    "\n",
    "print(list_multiple(start_range,end_range,multiple))\n",
    "    "
   ]
  },
  {
   "cell_type": "markdown",
   "metadata": {},
   "source": [
    "# Task 03 - Grade Converter\n",
    "\n",
    "Create a function that will convert student’s grade to GPA.\n",
    "\n",
    "## Instruction:\n",
    "1.Create function called `Grade_Converter`.\n",
    "\n",
    "2.This function takes input: `convert_to` and n-paired of student(s) name with its respective score.\n",
    "\n",
    "3.Input argument for `convert_to` is either `letter_grade` or `gpa`.\n",
    "\n",
    "4.You can utilize **kwargs input argument to generate n-length paired of student(s) name with its respective score (Dictionary).\n",
    "\n",
    "5.This function will return dictionary of student’s name along with converted Letter Grade or GPA, depending on user input in `convert_to` parameter.\n",
    "\n",
    "\n",
    "\n",
    "\n"
   ]
  },
  {
   "cell_type": "code",
   "execution_count": 18,
   "metadata": {},
   "outputs": [
    {
     "name": "stdout",
     "output_type": "stream",
     "text": [
      "Nilai kamu adalah  77.1\n",
      "Kamu masuk kedalam Grade  B\n",
      "Nilai GPA kamu  3\n"
     ]
    }
   ],
   "source": [
    "'''Fuction dibawah ini untuk menetukan batasan nilai berdasarkan huruf gradenya'''\n",
    "def letter_grade(nilaihuruf):\n",
    "    if (nilaihuruf >=85):           #Jika nilai lebih dari 85 maka grade-nya A\n",
    "        return \"A\"\n",
    "    elif (nilaihuruf >=70):         #Jika nilai lebih dari 70 maka grade-nya B\n",
    "        return \"B\"\n",
    "    elif (nilaihuruf >= 60):        #Jika nilai lebih dari 60 maka grade-nya C\n",
    "        return \"C\"\n",
    "    elif (nilaihuruf >= 50):        #Jika nilai lebih dari 50 maka grade-nya D\n",
    "        return \"D\"\n",
    "    elif (nilaihuruf >= 40):        #Jika nilai lebih dari 40 maka grade-nya E\n",
    "        return \"E\"\n",
    "    elif (nilaihuruf >= 0):         #Jika nilai lebih dari 0 maka grade-nya F\n",
    "        return \"F\"\n",
    "    \n",
    "'''Function dibawah ini untuk menetukan nilai GPA berdasarkan huruf gradenya'''\n",
    "def gpa(grade):\n",
    "    if (grade == \"A\"):              #Jika grade A nilai GPAnya adalah 4\n",
    "        return 4\n",
    "    elif (grade ==\"B\"):             #Jika grade B nilai GPAnya adalah 3\n",
    "        return 3\n",
    "    elif (grade ==\"C\"):             #Jika grade C nilai GPAnya adalah 2.5\n",
    "        return 2.5\n",
    "    elif (grade ==\"D\"):             #Jika grade D nilai GPAnya adalah 2\n",
    "        return 2\n",
    "    elif (grade ==\"E\"):             #Jika grade E nilai GPAnya adalah 1.5\n",
    "        return 1.5\n",
    "    elif (grade ==\"F\"):             #Jika grade F nilai GPAnya adalah 1\n",
    "        return 1\n",
    "    \n",
    " #memasukan nilai yang ingin dihitung   \n",
    "score=float(input(\"Silahkan masukan nilainya:\"))\n",
    "\n",
    "#Output\n",
    "print(f\"Nilai kamu adalah \",(score))\n",
    "print(f\"Kamu masuk kedalam Grade \",(letter_grade(nilaihuruf=score)))\n",
    "print(f\"Nilai GPA kamu \",(gpa(grade=letter_grade(nilaihuruf=score))))\n"
   ]
  },
  {
   "cell_type": "markdown",
   "metadata": {},
   "source": [
    "# Task 04 \n",
    "\n",
    "create a function that will return the value of n-th fibonacci number.\n",
    "\n",
    "## Instruction:\n",
    "\n",
    "1.The function will take 1 input parameter, n, represents the asked number from our fibonacci sequence index.\n",
    "\n",
    "2.The fibonacci sequence will start with the value of 0 and 1.\n",
    "\n",
    "3.This function will return the n-th value from fibonacci sequence.\n"
   ]
  },
  {
   "cell_type": "code",
   "execution_count": 43,
   "metadata": {},
   "outputs": [
    {
     "name": "stdout",
     "output_type": "stream",
     "text": [
      "berikut adalah hasil dari 20 deret Fibonacci: \n",
      "0 1 1 2 3 5 8 13 21 34 55 89 144 233 377 610 987 1597 2584 4181 \n",
      "Nilai Fibonacci dari deret ke 15 ini adalah:  610\n"
     ]
    }
   ],
   "source": [
    "totN=int(input(\"Masukan banyaknya deret Fobonacci yang kamu mau:\"))\n",
    "fibN=int(input(\"Kamu ingin mencari nilai Fibonacci pada deret keberapa?\"))\n",
    "\n",
    "n = totN\n",
    "#rumus dasar Fibbonacci\n",
    "num1 = 0        \n",
    "num2 = 1        \n",
    "next_number = num2  \n",
    "count = 1\n",
    "\n",
    "#Menampilkan deret Fibonacci \n",
    "print(\"berikut adalah hasil dari\",(totN),\"deret Fibonacci: \")\n",
    "while count <= n:\n",
    "    print(num1, end=\" \")\n",
    "    count += 1\n",
    "    num1, num2 = num2, next_number\n",
    "    next_number = num1 + num2\n",
    "\n",
    "#Menemukan nilai angka dari deret Fibonacci   \n",
    "'''Function dibawah ini adalah untuk menemukan nilai Fibonacci \n",
    "pada urutan tertentu yang ditentukan oleh fungsi fibN'''\n",
    "\n",
    "def Fibonacci(y):\n",
    "    if y<0:\n",
    "        print(\"Masukan angka urutan yang benar dong!\")\n",
    "    elif y==0:\n",
    "        return 0\n",
    "    elif y==1 or y==2:\n",
    "        return 1\n",
    "    else:\n",
    "        return Fibonacci(y-1)+ Fibonacci(y-2)\n",
    "\n",
    "print(\"\\nNilai Fibonacci dari deret ke\",(fibN),\"ini adalah: \",Fibonacci(y=fibN))\n",
    "\n"
   ]
  }
 ],
 "metadata": {
  "kernelspec": {
   "display_name": "Python 3",
   "language": "python",
   "name": "python3"
  },
  "language_info": {
   "codemirror_mode": {
    "name": "ipython",
    "version": 3
   },
   "file_extension": ".py",
   "mimetype": "text/x-python",
   "name": "python",
   "nbconvert_exporter": "python",
   "pygments_lexer": "ipython3",
   "version": "3.9.6"
  }
 },
 "nbformat": 4,
 "nbformat_minor": 2
}
